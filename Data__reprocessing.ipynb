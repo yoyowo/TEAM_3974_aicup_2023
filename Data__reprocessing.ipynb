{
  "nbformat": 4,
  "nbformat_minor": 0,
  "metadata": {
    "colab": {
      "provenance": []
    },
    "kernelspec": {
      "name": "python3",
      "display_name": "Python 3"
    },
    "language_info": {
      "name": "python"
    }
  },
  "cells": [
    {
      "cell_type": "code",
      "source": [
        "from google.colab import drive\n",
        "drive.mount('/content/drive')"
      ],
      "metadata": {
        "id": "bBavyhYhWTAp",
        "colab": {
          "base_uri": "https://localhost:8080/"
        },
        "outputId": "051f87d3-4a54-4f13-ba5f-133d86071eb9"
      },
      "execution_count": 1,
      "outputs": [
        {
          "output_type": "stream",
          "name": "stdout",
          "text": [
            "Mounted at /content/drive\n"
          ]
        }
      ]
    },
    {
      "cell_type": "code",
      "source": [
        "import os\n",
        "\n",
        "def process_folder(folder_path, output_file_path):\n",
        "    # 取得資料夾中的所有檔案並按照檔案名稱排序\n",
        "    files = sorted([f for f in os.listdir(folder_path) if os.path.isfile(os.path.join(folder_path, f))])\n",
        "\n",
        "    with open(output_file_path, 'w', encoding='utf-8') as output_file:\n",
        "        for file_name in files:\n",
        "            #print(file_name)\n",
        "            file_path = os.path.join(folder_path, file_name)\n",
        "            with open(file_path, 'r', encoding='utf-8') as file:\n",
        "                lines = file.readlines()\n",
        "                output_lines = []\n",
        "                total_character_count = 0\n",
        "                for i, line in enumerate(lines):\n",
        "                    # 移除換行符號\n",
        "                    line = line.strip(\"\\n\")\n",
        "                    # 排除.txt結尾的行和空白的行\n",
        "                    if line != \"\":\n",
        "                        if(line.isspace()):\n",
        "                          total_character_count = len(line) + total_character_count + 1\n",
        "                          line = line.strip()\n",
        "                          continue\n",
        "                        # 輸出格式: 檔名, 起始位置, 句子\n",
        "                        else:\n",
        "                          file_name_without_extension = os.path.splitext(file_name)[0] # 移除檔名中的.txt\n",
        "                          line_temp=line\n",
        "                          line = line.strip()\n",
        "                          line = line.replace('\\t', ' ')\n",
        "                          # 輸出格式: 檔名, 起始位置, 句子\n",
        "                          output_lines.append(f\"{file_name_without_extension}\\t{int(total_character_count)}\\t{line}\")\n",
        "                          total_character_count = len(line_temp) + total_character_count + 1\n",
        "                          # 累计字符数\n",
        "                    else:\n",
        "                        total_character_count = total_character_count + 1\n",
        "                        continue\n",
        "\n",
        "                # 將結果寫入檔案\n",
        "                output_file.write('\\n'.join(output_lines))\n",
        "                output_file.write('\\n')  # 每個檔案之間插入空行\n",
        "\n",
        "if __name__ == \"__main__\":\n",
        "    folder_path = \"/content/drive/MyDrive/Validation_Release\"  # 請替換成實際的資料夾路徑\n",
        "    output_file_path = \"/content/drive/MyDrive/text.txt\"  # 請替換成你想要的輸出檔案名稱\n",
        "    process_folder(folder_path, output_file_path)\n"
      ],
      "metadata": {
        "id": "CyctB9LYMla3"
      },
      "execution_count": 22,
      "outputs": []
    },
    {
      "cell_type": "code",
      "source": [],
      "metadata": {
        "id": "6O2f-yWXV0Hv"
      },
      "execution_count": null,
      "outputs": []
    }
  ]
}