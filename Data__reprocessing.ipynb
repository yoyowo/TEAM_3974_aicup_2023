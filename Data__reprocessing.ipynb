{
  "nbformat": 4,
  "nbformat_minor": 0,
  "metadata": {
    "colab": {
      "provenance": []
    },
    "kernelspec": {
      "name": "python3",
      "display_name": "Python 3"
    },
    "language_info": {
      "name": "python"
    }
  },
  "cells": [
    {
      "cell_type": "code",
      "source": [
        "from google.colab import drive\n",
        "drive.mount('/content/drive')"
      ],
      "metadata": {
        "id": "bBavyhYhWTAp",
        "colab": {
          "base_uri": "https://localhost:8080/"
        },
        "outputId": "051f87d3-4a54-4f13-ba5f-133d86071eb9"
      },
      "execution_count": 1,
      "outputs": [
        {
          "output_type": "stream",
          "name": "stdout",
          "text": [
            "Mounted at /content/drive\n"
          ]
        }
      ]
    },
    {
      "cell_type": "code",
      "source": [
import os

def process_folder(folder_path, output_file_path):
    files = sorted(
    [f for f in os.listdir(folder_path) if os.path.isfile(os.path.join(folder_path, f))],
    key=lambda x: (not x.isnumeric(), not x.isalnum(), x.lower()))
    with open(output_file_path, 'w', encoding='utf-8') as output_file:
        for file_name in files:
            #print(file_name)
            file_path = os.path.join(folder_path, file_name)
            with open(file_path, 'r', encoding='utf-8') as file:
                lines = file.readlines()
                output_lines = []
                total_character_count = 0
                for i, line in enumerate(lines):
                    # 移除換行符號
                    line = line.strip("\n")
                    # 排除.txt結尾的行和空白的行
                    if line != "":
                        if(line.isspace()):
                          total_character_count = len(line) + total_character_count + 1
                          line = line.strip()
                          continue
                        # 輸出格式: 檔名, 起始位置, 句子
                        else:
                          file_name_without_extension = os.path.splitext(file_name)[0] # 移除檔名中的.txt
                          start_position = 0
                          while start_position < len(line) and line[start_position].isspace():
                              start_position += 1
                          line_temp=line
                          line = line.strip()
                          line = line.replace('\t', ' ')
                          # 輸出格式: 檔名, 起始位置, 句子
                          output_lines.append(f"{file_name_without_extension}\t{int(start_position + total_character_count)}\t{line}")
                          total_character_count = len(line_temp) + total_character_count + 1
                          # 累计字符数
                    else:
                        total_character_count = total_character_count + 1
                        continue

                # 將結果寫入檔案
                output_file.write('\n'.join(output_lines))
                output_file.write('\n')  # 每個檔案之間插入空行

if __name__ == "__main__":
    folder_path = "/content/drive/MyDrive/opendid_test/opendid_test"  # 請替換成實際的資料夾路徑
    output_file_path = "/content/drive/MyDrive/pre_data.txt"  # 請替換成你想要的輸出檔案名稱
    process_folder(folder_path, output_file_path)
      ],
      "metadata": {
        "id": "CyctB9LYMla3"
      },
      "execution_count": 22,
      "outputs": []
    },
    {
      "cell_type": "code",
      "source": [],
      "metadata": {
        "id": "6O2f-yWXV0Hv"
      },
      "execution_count": null,
      "outputs": []
    }
  ]
}
