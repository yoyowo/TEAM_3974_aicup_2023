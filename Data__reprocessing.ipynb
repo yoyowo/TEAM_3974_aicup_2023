{
  "cells": [
    {
      "cell_type": "code",
      "execution_count": 1,
      "metadata": {
        "colab": {
          "base_uri": "https://localhost:8080/"
        },
        "id": "bBavyhYhWTAp",
        "outputId": "051f87d3-4a54-4f13-ba5f-133d86071eb9"
      },
      "outputs": [
        {
          "name": "stdout",
          "output_type": "stream",
          "text": [
            "Mounted at /content/drive\n"
          ]
        }
      ],
      "source": [
        "from google.colab import drive\n",
        "drive.mount('/content/drive')"
      ]
    },
    {
      "cell_type": "code",
      "execution_count": 22,
      "metadata": {
        "id": "CyctB9LYMla3"
      },
      "outputs": [],
      "source": [
        "import os\n",
        "\n",
        "def process_folder(folder_path, output_file_path):\n",
        "    files = sorted(\n",
        "    [f for f in os.listdir(folder_path) if os.path.isfile(os.path.join(folder_path, f))],\n",
        "    key=lambda x: (not x.isnumeric(), not x.isalnum(), x.lower()))\n",
        "    with open(output_file_path, 'w', encoding='utf-8') as output_file:\n",
        "        for file_name in files:\n",
        "            #print(file_name)\n",
        "            file_path = os.path.join(folder_path, file_name)\n",
        "            with open(file_path, 'r', encoding='utf-8') as file:\n",
        "                lines = file.readlines()\n",
        "                output_lines = []\n",
        "                total_character_count = 0\n",
        "                for i, line in enumerate(lines):\n",
        "                    # 移除換行符號\n",
        "                    line = line.strip(\"\\n\")\n",
        "                    # 排除.txt結尾的行和空白的行\n",
        "                    if line != \"\":\n",
        "                        if(line.isspace()):\n",
        "                          total_character_count = len(line) + total_character_count + 1\n",
        "                          line = line.strip()\n",
        "                          continue\n",
        "                        # 輸出格式: 檔名, 起始位置, 句子\n",
        "                        else:\n",
        "                          file_name_without_extension = os.path.splitext(file_name)[0] # 移除檔名中的.txt\n",
        "                          start_position = 0\n",
        "                          while start_position < len(line) and line[start_position].isspace():\n",
        "                              start_position += 1\n",
        "                          line_temp=line\n",
        "                          line = line.strip()\n",
        "                          line = line.replace('\\t', ' ')\n",
        "                          # 輸出格式: 檔名, 起始位置, 句子\n",
        "                          output_lines.append(f\"{file_name_without_extension}\\t{int(start_position + total_character_count)}\\t{line}\")\n",
        "                          total_character_count = len(line_temp) + total_character_count + 1\n",
        "                          # 累计字符数\n",
        "                    else:\n",
        "                        total_character_count = total_character_count + 1\n",
        "                        continue\n",
        "\n",
        "                # 將結果寫入檔案\n",
        "                output_file.write('\\n'.join(output_lines))\n",
        "                output_file.write('\\n')  # 每個檔案之間插入空行\n",
        "\n",
        "if __name__ == \"__main__\":\n",
        "    folder_path = \"/content/drive/MyDrive/opendid_test/opendid_test\"  # 請替換成實際的資料夾路徑\n",
        "    output_file_path = \"/content/drive/MyDrive/pre_data.txt\"  # 請替換成你想要的輸出檔案名稱\n",
        "    process_folder(folder_path, output_file_path)"
      ]
    },
    {
      "cell_type": "code",
      "execution_count": null,
      "metadata": {
        "id": "6O2f-yWXV0Hv"
      },
      "outputs": [],
      "source": []
    }
  ],
  "metadata": {
    "colab": {
      "provenance": []
    },
    "kernelspec": {
      "display_name": "Python 3",
      "name": "python3"
    },
    "language_info": {
      "name": "python"
    }
  },
  "nbformat": 4,
  "nbformat_minor": 0
}
